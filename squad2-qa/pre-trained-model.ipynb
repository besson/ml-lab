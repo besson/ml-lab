{
 "cells": [
  {
   "cell_type": "markdown",
   "metadata": {},
   "source": [
    "# Testing a pre-trained model"
   ]
  },
  {
   "cell_type": "code",
   "execution_count": 1,
   "metadata": {},
   "outputs": [
    {
     "name": "stderr",
     "output_type": "stream",
     "text": [
      "2023-02-22 22:10:17.287613: I tensorflow/core/platform/cpu_feature_guard.cc:193] This TensorFlow binary is optimized with oneAPI Deep Neural Network Library (oneDNN) to use the following CPU instructions in performance-critical operations:  AVX2 FMA\n",
      "To enable them in other operations, rebuild TensorFlow with the appropriate compiler flags.\n"
     ]
    }
   ],
   "source": [
    "from transformers import pipeline"
   ]
  },
  {
   "cell_type": "code",
   "execution_count": 2,
   "metadata": {},
   "outputs": [
    {
     "data": {
      "application/vnd.jupyter.widget-view+json": {
       "model_id": "27934bbc3e0349e79cf9d6ff32250ab4",
       "version_major": 2,
       "version_minor": 0
      },
      "text/plain": [
       "Downloading:   0%|          | 0.00/473 [00:00<?, ?B/s]"
      ]
     },
     "metadata": {},
     "output_type": "display_data"
    },
    {
     "data": {
      "application/vnd.jupyter.widget-view+json": {
       "model_id": "2dbff94adf3145ae9bdd28e470f333f3",
       "version_major": 2,
       "version_minor": 0
      },
      "text/plain": [
       "Downloading:   0%|          | 0.00/261M [00:00<?, ?B/s]"
      ]
     },
     "metadata": {},
     "output_type": "display_data"
    },
    {
     "data": {
      "application/vnd.jupyter.widget-view+json": {
       "model_id": "f0e5121bee0c4aa6a276b55af4c31eaa",
       "version_major": 2,
       "version_minor": 0
      },
      "text/plain": [
       "Downloading:   0%|          | 0.00/29.0 [00:00<?, ?B/s]"
      ]
     },
     "metadata": {},
     "output_type": "display_data"
    },
    {
     "data": {
      "application/vnd.jupyter.widget-view+json": {
       "model_id": "1678f40ae78b484a8364f869f9e62518",
       "version_major": 2,
       "version_minor": 0
      },
      "text/plain": [
       "Downloading:   0%|          | 0.00/213k [00:00<?, ?B/s]"
      ]
     },
     "metadata": {},
     "output_type": "display_data"
    },
    {
     "data": {
      "application/vnd.jupyter.widget-view+json": {
       "model_id": "a2196c50170c434095c8100372c1b459",
       "version_major": 2,
       "version_minor": 0
      },
      "text/plain": [
       "Downloading:   0%|          | 0.00/436k [00:00<?, ?B/s]"
      ]
     },
     "metadata": {},
     "output_type": "display_data"
    }
   ],
   "source": [
    "qa = pipeline('question-answering', model='distilbert-base-cased-distilled-squad')"
   ]
  },
  {
   "cell_type": "code",
   "execution_count": 6,
   "metadata": {},
   "outputs": [],
   "source": [
    "import pickle as pkl\n",
    "train_df = pkl.load(open('data/train-df.pkl', 'rb'))"
   ]
  },
  {
   "cell_type": "code",
   "execution_count": 12,
   "metadata": {},
   "outputs": [
    {
     "name": "stdout",
     "output_type": "stream",
     "text": [
      "Who published a genetic compression algorithm that does not use diploids?\n",
      "Answer: Johns Hopkins University (score: 0.923)\n",
      "Correct answer: Johns Hopkins University\n",
      "\n",
      "What is the oldest type of semiconductor package?\n",
      "Answer: ball grid array (score: 0.3588)\n",
      "Correct answer: through-hole\n",
      "\n",
      "How many people watched the Apollo 11 landing?\n",
      "Answer: 500 million (score: 0.4183)\n",
      "Correct answer: 500 million\n",
      "\n",
      "In the children's TV show, The Wombles, what character asks others to bring him any copies of The Times that they find amongst the litter?\n",
      "Answer: Uncle Bulgaria (score: 0.9972)\n",
      "Correct answer: Uncle Bulgaria\n",
      "\n",
      "When was a high-definition manga based on Twilight Princess first released?\n",
      "Answer: February 8, 2016 (score: 0.9783)\n",
      "Correct answer: February 8, 2016\n",
      "\n",
      "What public station went on air in 1949?\n",
      "Answer: St. John's (score: 0.9635)\n",
      "Correct answer: VO\n",
      "\n",
      "What emotion do political campaigns not appeal to in regard to terrorism?\n",
      "Answer: fear (score: 0.965)\n",
      "Correct answer: fear\n",
      "\n",
      "What empty city in Northern France did Viollet-le-Duc recreate historical Gothic constructions?\n",
      "Answer: Carcassonne (score: 0.992)\n",
      "Correct answer: Carcassonne\n",
      "\n",
      "What did many families lose in the earthquake?\n",
      "Answer: their only child (score: 0.6397)\n",
      "Correct answer: their only child\n",
      "\n",
      "What is thought to have helped Greece's potential output?\n",
      "Answer: massive unemployment (score: 0.2709)\n",
      "Correct answer: prolonged massive unemployment\n",
      "\n"
     ]
    }
   ],
   "source": [
    "for idx, row in train_df.sample(10).iterrows():\n",
    "    result = qa(question=row['question'], context=row['context'])\n",
    "    print(row['question'])\n",
    "    print(f\"Answer: {result['answer']} (score: {round(result['score'], 4)})\")\n",
    "    print(f\"Correct answer: {row['answer']}\\n\" )"
   ]
  },
  {
   "cell_type": "code",
   "execution_count": null,
   "metadata": {},
   "outputs": [],
   "source": []
  }
 ],
 "metadata": {
  "kernelspec": {
   "display_name": "Python 3 (ipykernel)",
   "language": "python",
   "name": "python3"
  },
  "language_info": {
   "codemirror_mode": {
    "name": "ipython",
    "version": 3
   },
   "file_extension": ".py",
   "mimetype": "text/x-python",
   "name": "python",
   "nbconvert_exporter": "python",
   "pygments_lexer": "ipython3",
   "version": "3.9.10"
  },
  "orig_nbformat": 4
 },
 "nbformat": 4,
 "nbformat_minor": 2
}
