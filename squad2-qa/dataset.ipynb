{
 "cells": [
  {
   "attachments": {},
   "cell_type": "markdown",
   "metadata": {},
   "source": [
    "# SQuAD2.0 (The Stanford Question Answering Dataset)\n",
    "\n",
    "This dataset can be found at: https://rajpurkar.github.io/SQuAD-explorer/dataset/train-v2.0.json"
   ]
  },
  {
   "cell_type": "markdown",
   "metadata": {},
   "source": [
    "## Prepare dataset"
   ]
  },
  {
   "cell_type": "code",
   "execution_count": 7,
   "metadata": {},
   "outputs": [],
   "source": [
    "import json\n",
    "\n",
    "json_data = json.load(open(\"data/train-v2.0.json\", \"r\"))"
   ]
  },
  {
   "cell_type": "code",
   "execution_count": 58,
   "metadata": {},
   "outputs": [],
   "source": [
    "results = []\n",
    "\n",
    "for data in json_data['data']:\n",
    "    record = {}\n",
    "    for paragraph in data['paragraphs']:\n",
    "        record['context'] = paragraph['context']\n",
    "        for qa in paragraph['qas']:\n",
    "            record['question'] = qa['question']\n",
    "\n",
    "            if qa['answers']:\n",
    "                answer = qa['answers'][0]['text'] \n",
    "\n",
    "            elif qa['plausible_answers']:\n",
    "                answer = qa['plausible_answers'][0]['text']\n",
    "            \n",
    "            else:\n",
    "                answer = None\n",
    "            \n",
    "            record['answer'] = answer\n",
    "    \n",
    "    results.append(record)\n",
    "\n"
   ]
  },
  {
   "cell_type": "code",
   "execution_count": 59,
   "metadata": {},
   "outputs": [
    {
     "data": {
      "text/html": [
       "<div>\n",
       "<style scoped>\n",
       "    .dataframe tbody tr th:only-of-type {\n",
       "        vertical-align: middle;\n",
       "    }\n",
       "\n",
       "    .dataframe tbody tr th {\n",
       "        vertical-align: top;\n",
       "    }\n",
       "\n",
       "    .dataframe thead th {\n",
       "        text-align: right;\n",
       "    }\n",
       "</style>\n",
       "<table border=\"1\" class=\"dataframe\">\n",
       "  <thead>\n",
       "    <tr style=\"text-align: right;\">\n",
       "      <th></th>\n",
       "      <th>context</th>\n",
       "      <th>question</th>\n",
       "      <th>answer</th>\n",
       "    </tr>\n",
       "  </thead>\n",
       "  <tbody>\n",
       "    <tr>\n",
       "      <th>208</th>\n",
       "      <td>Madonna holds the record for the most number-ones on all combined Billboard charts, including twelve number-one songs on the Billboard Hot 100 and eight number-one albums on the Billboard 200. With 45 songs topping the Hot Dance Club Songs chart, Madonna became the artist with the most number-one songs on an active Billboard chart, pulling ahead of George Strait with 44 number-one songs on the Hot Country Songs chart. She has also scored 38 top-ten singles on the Hot 100, more than any other artist in history. In 2008, Billboard magazine ranked her at number two, behind The Beatles, on the Billboard Hot 100 All-Time Top Artists, making her the most successful solo artist in the history of American singles chart.</td>\n",
       "      <td>Who is the most successful solo artist in the history of American singles chart?</td>\n",
       "      <td>Madonna</td>\n",
       "    </tr>\n",
       "    <tr>\n",
       "      <th>416</th>\n",
       "      <td>Changes in worldwide Protestantism over the last century have been significant. Since 1900, Protestantism has spread rapidly in Africa, Asia, Oceania and Latin America. That caused Protestantism to be called a primarily non-Western religion. Much of the growth has occurred after World War II, when decolonization of Africa and abolition of various restrictions against Protestants in Latin American countries occurred. According to one source, Protestants constituted respectively 2.5%, 2%, 0.5% of Latin Americans, Africans and Asians. In 2000, percentage of Protestants on mentioned continents was 17%, more than 27% and 5.5%, respectively. According to Mark A. Noll, 79% of Anglicans lived in the United Kingdom in 1910, while most of the remainder was found in the United States and across the British Commonwealth. By 2010, 59% of Anglicans were found in Africa. In 2010, more Protestants lived in India than in the UK or Germany, while Protestants in Brazil accounted for as many people as Protestants in the UK and Germany combined. Almost as many lived in each of Nigeria and China as in all of Europe. China is home to world's largest Protestant minority.[af]</td>\n",
       "      <td>In 2010, what country had more Protestants than both the UK and Germany together?</td>\n",
       "      <td>Brazil</td>\n",
       "    </tr>\n",
       "    <tr>\n",
       "      <th>186</th>\n",
       "      <td>Following the assassination of Phillip II, his son Alexander III (\"The Great\") assumed the leadership of the League of Corinth and launched an invasion of the Persian Empire with the combined forces of all Greek states in 334 BC. Undefeated in battle, Alexander had conquered the Persian Empire in its entirety by 330 BC. By the time of his death in 323 BC, he had created one of the largest empires in history, stretching from Greece to India. His empire split into several kingdoms upon his death, the most famous of which were the Seleucid Empire, Ptolemaic Egypt, the Greco-Bactrian Kingdom and the Indo-Greek Kingdom. Many Greeks migrated to Alexandria, Antioch, Seleucia and the many other new Hellenistic cities in Asia and Africa. Although the political unity of Alexander's empire could not be maintained, it resulted in the Hellenistic civilization and spread the Greek language and Greek culture in the territories conquered by Alexander. Greek science, technology and mathematics are generally considered to have reached their peak during the Hellenistic period.</td>\n",
       "      <td>In which year did Alexander III die?</td>\n",
       "      <td>323 BC</td>\n",
       "    </tr>\n",
       "    <tr>\n",
       "      <th>99</th>\n",
       "      <td>In addition, this Introductory Course gives students more information to complement general biology or science training. It also has two different parts: Part I is an introduction to the basic principles of immunology and Part II is a clinically-oriented lecture series. On the other hand, the Advanced Course is another course for those who are willing to expand or update their understanding of immunology. It is advised for students who want to attend the Advanced Course to have a background of the principles of immunology. Most schools require students to take electives in other to complete their degrees. A Master’s degree requires two years of study following the attainment of a bachelor's degree. For a doctoral programme it is required to take two additional years of study.</td>\n",
       "      <td>What program requires an additional two years of study?</td>\n",
       "      <td>a doctoral programme</td>\n",
       "    </tr>\n",
       "    <tr>\n",
       "      <th>29</th>\n",
       "      <td>Some countries were not included for various reasons, such as being a non-UN member, unable, or unwilling to provide the necessary data at the time of publication. Besides the states with limited recognition, the following states were also not included.</td>\n",
       "      <td>Why were all countries included?</td>\n",
       "      <td>being a non-UN member</td>\n",
       "    </tr>\n",
       "  </tbody>\n",
       "</table>\n",
       "</div>"
      ],
      "text/plain": [
       "                                                                                                                                                                                                                                                                                                                                                                                                                                                                                                                                                                                                                                                                                                                                                                                                                                                                                                                                                                                                                                                                                                                                                                                                               context  \\\n",
       "208                                                                                                                                                                                                                                                                                                                                                                                                                                                                  Madonna holds the record for the most number-ones on all combined Billboard charts, including twelve number-one songs on the Billboard Hot 100 and eight number-one albums on the Billboard 200. With 45 songs topping the Hot Dance Club Songs chart, Madonna became the artist with the most number-one songs on an active Billboard chart, pulling ahead of George Strait with 44 number-one songs on the Hot Country Songs chart. She has also scored 38 top-ten singles on the Hot 100, more than any other artist in history. In 2008, Billboard magazine ranked her at number two, behind The Beatles, on the Billboard Hot 100 All-Time Top Artists, making her the most successful solo artist in the history of American singles chart.   \n",
       "416  Changes in worldwide Protestantism over the last century have been significant. Since 1900, Protestantism has spread rapidly in Africa, Asia, Oceania and Latin America. That caused Protestantism to be called a primarily non-Western religion. Much of the growth has occurred after World War II, when decolonization of Africa and abolition of various restrictions against Protestants in Latin American countries occurred. According to one source, Protestants constituted respectively 2.5%, 2%, 0.5% of Latin Americans, Africans and Asians. In 2000, percentage of Protestants on mentioned continents was 17%, more than 27% and 5.5%, respectively. According to Mark A. Noll, 79% of Anglicans lived in the United Kingdom in 1910, while most of the remainder was found in the United States and across the British Commonwealth. By 2010, 59% of Anglicans were found in Africa. In 2010, more Protestants lived in India than in the UK or Germany, while Protestants in Brazil accounted for as many people as Protestants in the UK and Germany combined. Almost as many lived in each of Nigeria and China as in all of Europe. China is home to world's largest Protestant minority.[af]   \n",
       "186                                                                                                 Following the assassination of Phillip II, his son Alexander III (\"The Great\") assumed the leadership of the League of Corinth and launched an invasion of the Persian Empire with the combined forces of all Greek states in 334 BC. Undefeated in battle, Alexander had conquered the Persian Empire in its entirety by 330 BC. By the time of his death in 323 BC, he had created one of the largest empires in history, stretching from Greece to India. His empire split into several kingdoms upon his death, the most famous of which were the Seleucid Empire, Ptolemaic Egypt, the Greco-Bactrian Kingdom and the Indo-Greek Kingdom. Many Greeks migrated to Alexandria, Antioch, Seleucia and the many other new Hellenistic cities in Asia and Africa. Although the political unity of Alexander's empire could not be maintained, it resulted in the Hellenistic civilization and spread the Greek language and Greek culture in the territories conquered by Alexander. Greek science, technology and mathematics are generally considered to have reached their peak during the Hellenistic period.   \n",
       "99                                                                                                                                                                                                                                                                                                                                                                                                  In addition, this Introductory Course gives students more information to complement general biology or science training. It also has two different parts: Part I is an introduction to the basic principles of immunology and Part II is a clinically-oriented lecture series. On the other hand, the Advanced Course is another course for those who are willing to expand or update their understanding of immunology. It is advised for students who want to attend the Advanced Course to have a background of the principles of immunology. Most schools require students to take electives in other to complete their degrees. A Master’s degree requires two years of study following the attainment of a bachelor's degree. For a doctoral programme it is required to take two additional years of study.   \n",
       "29                                                                                                                                                                                                                                                                                                                                                                                                                                                                                                                                                                                                                                                                                                                                                                                                                                                                                                                                                       Some countries were not included for various reasons, such as being a non-UN member, unable, or unwilling to provide the necessary data at the time of publication. Besides the states with limited recognition, the following states were also not included.   \n",
       "\n",
       "                                                                              question  \\\n",
       "208   Who is the most successful solo artist in the history of American singles chart?   \n",
       "416  In 2010, what country had more Protestants than both the UK and Germany together?   \n",
       "186                                               In which year did Alexander III die?   \n",
       "99                             What program requires an additional two years of study?   \n",
       "29                                                    Why were all countries included?   \n",
       "\n",
       "                    answer  \n",
       "208                Madonna  \n",
       "416                 Brazil  \n",
       "186                 323 BC  \n",
       "99    a doctoral programme  \n",
       "29   being a non-UN member  "
      ]
     },
     "metadata": {},
     "output_type": "display_data"
    }
   ],
   "source": [
    "import pandas as pd\n",
    "\n",
    "results_df = pd.DataFrame(results)\n",
    "\n",
    "with pd.option_context('display.max_colwidth', None):\n",
    "    display(results_df.sample(5))"
   ]
  },
  {
   "cell_type": "markdown",
   "metadata": {},
   "source": [
    "## Save dataset"
   ]
  },
  {
   "cell_type": "code",
   "execution_count": 60,
   "metadata": {},
   "outputs": [],
   "source": [
    "import pickle as pkl"
   ]
  },
  {
   "cell_type": "code",
   "execution_count": 61,
   "metadata": {},
   "outputs": [],
   "source": [
    "pkl.dump(results_df, open(\"data/train-df.pkl\", \"wb\"))"
   ]
  },
  {
   "cell_type": "code",
   "execution_count": null,
   "metadata": {},
   "outputs": [],
   "source": []
  }
 ],
 "metadata": {
  "kernelspec": {
   "display_name": "Python 3 (ipykernel)",
   "language": "python",
   "name": "python3"
  },
  "language_info": {
   "codemirror_mode": {
    "name": "ipython",
    "version": 3
   },
   "file_extension": ".py",
   "mimetype": "text/x-python",
   "name": "python",
   "nbconvert_exporter": "python",
   "pygments_lexer": "ipython3",
   "version": "3.9.10"
  },
  "orig_nbformat": 4
 },
 "nbformat": 4,
 "nbformat_minor": 2
}
