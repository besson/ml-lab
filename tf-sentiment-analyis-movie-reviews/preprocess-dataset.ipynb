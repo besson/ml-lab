{
 "cells": [
  {
   "attachments": {},
   "cell_type": "markdown",
   "id": "49b740ab-e2d6-4708-873a-1e8bd3783741",
   "metadata": {},
   "source": [
    "# Preprocess datasets\n",
    "\n",
    "In this notebook, we prepare the datasets used by our model"
   ]
  },
  {
   "attachments": {},
   "cell_type": "markdown",
   "id": "c3367819",
   "metadata": {},
   "source": [
    "## 1. Get data from Kaggle\n",
    "\n",
    "Before running:\n",
    "\n",
    "1. Make sure you had your Kaggle credentials configured correctly:\n",
    "- [Configuring Kaggle API - Python](https://www.kaggle.com/code/donkeys/kaggle-python-api/notebook)\n",
    "\n",
    "2. Make sure you accept the rules for the [project](https://www.kaggle.com/competitions/sentiment-analysis-on-movie-reviews/rules) (otherwise you won't be able to download the daset)\n",
    "\n",
    "\n",
    "### Data\n",
    "\n",
    "The sentiment labels are:\n",
    "\n",
    "0 - negative\n",
    "\n",
    "1 - somewhat negative\n",
    "\n",
    "2 - neutral\n",
    "\n",
    "3 - somewhat positive\n",
    "\n",
    "4 - positive"
   ]
  },
  {
   "cell_type": "code",
   "execution_count": 1,
   "id": "b9d7e9f3",
   "metadata": {},
   "outputs": [],
   "source": [
    "from kaggle.api.kaggle_api_extended import KaggleApi\n",
    "import os\n",
    "import zipfile\n",
    "import pandas as pd"
   ]
  },
  {
   "cell_type": "code",
   "execution_count": 2,
   "id": "085f313e",
   "metadata": {},
   "outputs": [],
   "source": [
    "api = KaggleApi()\n",
    "api.authenticate()\n"
   ]
  },
  {
   "cell_type": "code",
   "execution_count": 3,
   "id": "8d275218",
   "metadata": {},
   "outputs": [],
   "source": [
    "WORKSPACE = f\"{api.get_default_download_dir()}/competitions\"\n",
    "COMPETITION_NAME = 'sentiment-analysis-on-movie-reviews'"
   ]
  },
  {
   "cell_type": "code",
   "execution_count": 4,
   "id": "68eff49d",
   "metadata": {},
   "outputs": [],
   "source": [
    "api.competition_download_files(competition=COMPETITION_NAME, force=True)\n",
    "with zipfile.ZipFile(f\"{WORKSPACE}/{COMPETITION_NAME}/{COMPETITION_NAME}.zip\",\"r\") as zip_ref:\n",
    "    zip_ref.extractall(f\"{WORKSPACE}/{COMPETITION_NAME}\")"
   ]
  },
  {
   "cell_type": "code",
   "execution_count": 5,
   "id": "6c2bb5ff",
   "metadata": {},
   "outputs": [
    {
     "data": {
      "text/plain": [
       "((156060, 4), (66292, 3))"
      ]
     },
     "execution_count": 5,
     "metadata": {},
     "output_type": "execute_result"
    }
   ],
   "source": [
    "train_df = pd.read_csv(f'{WORKSPACE}/{COMPETITION_NAME}/train.tsv.zip', sep='\\t')\n",
    "test_df = pd.read_csv(f'{WORKSPACE}/{COMPETITION_NAME}/test.tsv.zip', sep='\\t')\n",
    "\n",
    "train_df.shape, test_df.shape"
   ]
  },
  {
   "cell_type": "code",
   "execution_count": 6,
   "id": "a15a765c",
   "metadata": {},
   "outputs": [
    {
     "data": {
      "text/html": [
       "<div>\n",
       "<style scoped>\n",
       "    .dataframe tbody tr th:only-of-type {\n",
       "        vertical-align: middle;\n",
       "    }\n",
       "\n",
       "    .dataframe tbody tr th {\n",
       "        vertical-align: top;\n",
       "    }\n",
       "\n",
       "    .dataframe thead th {\n",
       "        text-align: right;\n",
       "    }\n",
       "</style>\n",
       "<table border=\"1\" class=\"dataframe\">\n",
       "  <thead>\n",
       "    <tr style=\"text-align: right;\">\n",
       "      <th></th>\n",
       "      <th>PhraseId</th>\n",
       "      <th>SentenceId</th>\n",
       "      <th>Phrase</th>\n",
       "      <th>Sentiment</th>\n",
       "    </tr>\n",
       "  </thead>\n",
       "  <tbody>\n",
       "    <tr>\n",
       "      <th>116460</th>\n",
       "      <td>116461</td>\n",
       "      <td>6210</td>\n",
       "      <td>to have gone into recruiting the right bands f...</td>\n",
       "      <td>1</td>\n",
       "    </tr>\n",
       "    <tr>\n",
       "      <th>76636</th>\n",
       "      <td>76637</td>\n",
       "      <td>3941</td>\n",
       "      <td>the paranoid claustrophobia of a submarine mov...</td>\n",
       "      <td>4</td>\n",
       "    </tr>\n",
       "    <tr>\n",
       "      <th>5860</th>\n",
       "      <td>5861</td>\n",
       "      <td>234</td>\n",
       "      <td>yes</td>\n",
       "      <td>2</td>\n",
       "    </tr>\n",
       "    <tr>\n",
       "      <th>37485</th>\n",
       "      <td>37486</td>\n",
       "      <td>1780</td>\n",
       "      <td>anyone who is not a character in this movie sh...</td>\n",
       "      <td>2</td>\n",
       "    </tr>\n",
       "    <tr>\n",
       "      <th>105078</th>\n",
       "      <td>105079</td>\n",
       "      <td>5550</td>\n",
       "      <td>dishes</td>\n",
       "      <td>2</td>\n",
       "    </tr>\n",
       "    <tr>\n",
       "      <th>23680</th>\n",
       "      <td>23681</td>\n",
       "      <td>1075</td>\n",
       "      <td>naturalistic</td>\n",
       "      <td>3</td>\n",
       "    </tr>\n",
       "    <tr>\n",
       "      <th>112131</th>\n",
       "      <td>112132</td>\n",
       "      <td>5952</td>\n",
       "      <td>drama and lyricism</td>\n",
       "      <td>2</td>\n",
       "    </tr>\n",
       "    <tr>\n",
       "      <th>39335</th>\n",
       "      <td>39336</td>\n",
       "      <td>1878</td>\n",
       "      <td>Gooding and</td>\n",
       "      <td>2</td>\n",
       "    </tr>\n",
       "    <tr>\n",
       "      <th>52175</th>\n",
       "      <td>52176</td>\n",
       "      <td>2577</td>\n",
       "      <td>off-beat project</td>\n",
       "      <td>2</td>\n",
       "    </tr>\n",
       "    <tr>\n",
       "      <th>14486</th>\n",
       "      <td>14487</td>\n",
       "      <td>625</td>\n",
       "      <td>Better than the tepid Star Trek :</td>\n",
       "      <td>3</td>\n",
       "    </tr>\n",
       "  </tbody>\n",
       "</table>\n",
       "</div>"
      ],
      "text/plain": [
       "        PhraseId  SentenceId  \\\n",
       "116460    116461        6210   \n",
       "76636      76637        3941   \n",
       "5860        5861         234   \n",
       "37485      37486        1780   \n",
       "105078    105079        5550   \n",
       "23680      23681        1075   \n",
       "112131    112132        5952   \n",
       "39335      39336        1878   \n",
       "52175      52176        2577   \n",
       "14486      14487         625   \n",
       "\n",
       "                                                   Phrase  Sentiment  \n",
       "116460  to have gone into recruiting the right bands f...          1  \n",
       "76636   the paranoid claustrophobia of a submarine mov...          4  \n",
       "5860                                                  yes          2  \n",
       "37485   anyone who is not a character in this movie sh...          2  \n",
       "105078                                             dishes          2  \n",
       "23680                                        naturalistic          3  \n",
       "112131                                 drama and lyricism          2  \n",
       "39335                                         Gooding and          2  \n",
       "52175                                    off-beat project          2  \n",
       "14486                   Better than the tepid Star Trek :          3  "
      ]
     },
     "execution_count": 6,
     "metadata": {},
     "output_type": "execute_result"
    }
   ],
   "source": [
    "train_df.sample(10)"
   ]
  },
  {
   "attachments": {},
   "cell_type": "markdown",
   "id": "366856db-d165-4b22-a820-7bf0c3ff4327",
   "metadata": {},
   "source": [
    "## 2. Clean datasets"
   ]
  },
  {
   "cell_type": "code",
   "execution_count": 7,
   "id": "2bbd9d40",
   "metadata": {},
   "outputs": [
    {
     "data": {
      "text/plain": [
       "((156060, 4), (66292, 3))"
      ]
     },
     "execution_count": 7,
     "metadata": {},
     "output_type": "execute_result"
    }
   ],
   "source": [
    "# Clean duplicates\n",
    "train_df = train_df.drop_duplicates()\n",
    "test_df = test_df.drop_duplicates()\n",
    "\n",
    "(train_df.shape, test_df.shape)"
   ]
  },
  {
   "cell_type": "code",
   "execution_count": 8,
   "id": "e44bcd36",
   "metadata": {},
   "outputs": [
    {
     "data": {
      "text/plain": [
       "<AxesSubplot: >"
      ]
     },
     "execution_count": 8,
     "metadata": {},
     "output_type": "execute_result"
    },
    {
     "data": {
      "image/png": "[encoded data removed]",
      "text/plain": [
       "<Figure size 640x480 with 1 Axes>"
      ]
     },
     "metadata": {},
     "output_type": "display_data"
    }
   ],
   "source": [
    "train_df['Sentiment'].value_counts().plot(kind='bar')"
   ]
  },
  {
   "attachments": {},
   "cell_type": "markdown",
   "id": "1a720603",
   "metadata": {},
   "source": [
    "## 3. Tokenization (pre-processing)"
   ]
  },
  {
   "cell_type": "code",
   "execution_count": 9,
   "id": "aa18d88e",
   "metadata": {},
   "outputs": [],
   "source": [
    "#!pip3 install tf-nightly\n"
   ]
  },
  {
   "cell_type": "code",
   "execution_count": 33,
   "id": "190e5f52",
   "metadata": {},
   "outputs": [],
   "source": [
    "from transformers import BertTokenizer\n",
    "import pickle\n",
    "import numpy as np\n",
    "import tensorflow as tf"
   ]
  },
  {
   "cell_type": "code",
   "execution_count": 11,
   "id": "734bfeb0",
   "metadata": {},
   "outputs": [],
   "source": [
    "SEQ_LEN = 512  # BERT max token length\n",
    "n_samples = train_df.shape[0]"
   ]
  },
  {
   "cell_type": "code",
   "execution_count": 73,
   "id": "789a24d4",
   "metadata": {},
   "outputs": [],
   "source": [
    "tokenizer = BertTokenizer.from_pretrained('bert-base-cased')\n",
    "tokens = tokenizer(train_df['Phrase'].to_list(), \n",
    "                   max_length=SEQ_LEN,\n",
    "                   truncation=True,\n",
    "                   padding='max_length',\n",
    "                   add_special_tokens=True,\n",
    "                   return_tensors='np'\n",
    "        )"
   ]
  },
  {
   "attachments": {},
   "cell_type": "markdown",
   "id": "0c139ff0",
   "metadata": {},
   "source": [
    "## 4. Build labels"
   ]
  },
  {
   "cell_type": "code",
   "execution_count": 46,
   "id": "9a91cb17",
   "metadata": {},
   "outputs": [
    {
     "data": {
      "text/plain": [
       "(156060, 5)"
      ]
     },
     "execution_count": 46,
     "metadata": {},
     "output_type": "execute_result"
    }
   ],
   "source": [
    "# Need to arrange labels for the softmax function\n",
    "labels_values = train_df['Sentiment'].values\n",
    "labels = np.zeros((n_samples, labels_values.max() + 1))\n",
    "labels.shape\n"
   ]
  },
  {
   "cell_type": "code",
   "execution_count": 49,
   "id": "11f02044",
   "metadata": {},
   "outputs": [
    {
     "data": {
      "text/plain": [
       "array([[0., 1., 0., 0., 0.],\n",
       "       [0., 0., 1., 0., 0.],\n",
       "       [0., 0., 1., 0., 0.],\n",
       "       ...,\n",
       "       [0., 0., 0., 1., 0.],\n",
       "       [0., 0., 1., 0., 0.],\n",
       "       [0., 0., 1., 0., 0.]])"
      ]
     },
     "execution_count": 49,
     "metadata": {},
     "output_type": "execute_result"
    }
   ],
   "source": [
    "labels[np.arange(n_samples), labels_values] = 1\n",
    "labels"
   ]
  },
  {
   "attachments": {},
   "cell_type": "markdown",
   "id": "2d95d809",
   "metadata": {},
   "source": [
    "## 5. Build TensorFlow input dataset"
   ]
  },
  {
   "cell_type": "code",
   "execution_count": 75,
   "id": "4fc5b846",
   "metadata": {},
   "outputs": [],
   "source": [
    "input_ids = tokens['input_ids']\n",
    "attention_mask = tokens['attention_mask']"
   ]
  },
  {
   "cell_type": "code",
   "execution_count": 80,
   "id": "52a63ad6",
   "metadata": {},
   "outputs": [],
   "source": [
    "def map_data(input_ids, attention_mask, labels):\n",
    "    return {'input_ids': input_ids, 'attention_mask': attention_mask}, labels"
   ]
  },
  {
   "cell_type": "code",
   "execution_count": 77,
   "id": "51af2f80",
   "metadata": {},
   "outputs": [],
   "source": [
    "dataset = tf.data.Dataset.from_tensor_slices((input_ids, attention_mask, labels))"
   ]
  },
  {
   "cell_type": "code",
   "execution_count": 78,
   "id": "9f74e2c4",
   "metadata": {},
   "outputs": [
    {
     "data": {
      "text/plain": [
       "<TakeDataset element_spec=(TensorSpec(shape=(512,), dtype=tf.int64, name=None), TensorSpec(shape=(512,), dtype=tf.int64, name=None), TensorSpec(shape=(5,), dtype=tf.float64, name=None))>"
      ]
     },
     "execution_count": 78,
     "metadata": {},
     "output_type": "execute_result"
    }
   ],
   "source": [
    "dataset.take(1)"
   ]
  },
  {
   "cell_type": "code",
   "execution_count": 81,
   "id": "52d9eec2",
   "metadata": {},
   "outputs": [],
   "source": [
    "dataset = dataset.map(map_data)"
   ]
  },
  {
   "cell_type": "code",
   "execution_count": 82,
   "id": "54038cb2",
   "metadata": {},
   "outputs": [
    {
     "data": {
      "text/plain": [
       "<TakeDataset element_spec=({'input_ids': TensorSpec(shape=(512,), dtype=tf.int64, name=None), 'attention_mask': TensorSpec(shape=(512,), dtype=tf.int64, name=None)}, TensorSpec(shape=(5,), dtype=tf.float64, name=None))>"
      ]
     },
     "execution_count": 82,
     "metadata": {},
     "output_type": "execute_result"
    }
   ],
   "source": [
    "dataset.take(1)"
   ]
  },
  {
   "attachments": {},
   "cell_type": "markdown",
   "id": "b6ed67af",
   "metadata": {},
   "source": [
    "## 6. Build train and validation datasets"
   ]
  },
  {
   "cell_type": "code",
   "execution_count": 83,
   "id": "a90e6259",
   "metadata": {},
   "outputs": [],
   "source": [
    "BATCH_SIZE = 16\n",
    "SHUFFLE_SIZE = 10000\n",
    "SPLIT = 0.8"
   ]
  },
  {
   "cell_type": "code",
   "execution_count": 84,
   "id": "b425b3e2",
   "metadata": {},
   "outputs": [],
   "source": [
    "dataset = dataset.shuffle(SHUFFLE_SIZE).batch(BATCH_SIZE, drop_remainder=True)"
   ]
  },
  {
   "cell_type": "code",
   "execution_count": 85,
   "id": "20c7e80f",
   "metadata": {},
   "outputs": [
    {
     "data": {
      "text/plain": [
       "<TakeDataset element_spec=({'input_ids': TensorSpec(shape=(16, 512), dtype=tf.int64, name=None), 'attention_mask': TensorSpec(shape=(16, 512), dtype=tf.int64, name=None)}, TensorSpec(shape=(16, 5), dtype=tf.float64, name=None))>"
      ]
     },
     "execution_count": 85,
     "metadata": {},
     "output_type": "execute_result"
    }
   ],
   "source": [
    "dataset.take(1)"
   ]
  },
  {
   "cell_type": "code",
   "execution_count": 86,
   "id": "3aea5b12",
   "metadata": {},
   "outputs": [
    {
     "data": {
      "text/plain": [
       "7803"
      ]
     },
     "execution_count": 86,
     "metadata": {},
     "output_type": "execute_result"
    }
   ],
   "source": [
    "num_train_samples = int(( n_samples / BATCH_SIZE) * SPLIT)\n",
    "num_train_samples"
   ]
  },
  {
   "cell_type": "code",
   "execution_count": 87,
   "id": "080d8474",
   "metadata": {},
   "outputs": [],
   "source": [
    "train_ds = dataset.take(num_train_samples)\n",
    "test_ds = dataset.skip(num_train_samples)"
   ]
  },
  {
   "attachments": {},
   "cell_type": "markdown",
   "id": "11690475",
   "metadata": {},
   "source": [
    "## 7. Save data"
   ]
  },
  {
   "cell_type": "code",
   "execution_count": 88,
   "id": "ff95c658",
   "metadata": {},
   "outputs": [],
   "source": [
    "tf.data.Dataset.save(train_ds, 'train')\n",
    "tf.data.Dataset.save(test_ds, 'test')"
   ]
  },
  {
   "cell_type": "code",
   "execution_count": null,
   "id": "ff46cf1a",
   "metadata": {},
   "outputs": [],
   "source": []
  }
 ],
 "metadata": {
  "kernelspec": {
   "display_name": "Python 3 (ipykernel)",
   "language": "python",
   "name": "python3"
  },
  "language_info": {
   "codemirror_mode": {
    "name": "ipython",
    "version": 3
   },
   "file_extension": ".py",
   "mimetype": "text/x-python",
   "name": "python",
   "nbconvert_exporter": "python",
   "pygments_lexer": "ipython3",
   "version": "3.9.10"
  },
  "vscode": {
   "interpreter": {
    "hash": "465998d55d70973bbdaffa2598986d7a1a4bad5383a307a213b7a2e17d0ed72f"
   }
  }
 },
 "nbformat": 4,
 "nbformat_minor": 5
}
